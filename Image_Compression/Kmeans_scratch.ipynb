{
  "cells": [
    {
      "attachments": {},
      "cell_type": "markdown",
      "metadata": {
        "id": "aokW6qX2kfNR"
      },
      "source": [
        "Implemented K means from scratch.\n",
        "Compare output to MATLAB or Python’s standard function(s), as well as contrast run times"
      ]
    },
    {
      "cell_type": "code",
      "execution_count": 1,
      "metadata": {
        "colab": {
          "base_uri": "https://localhost:8080/"
        },
        "id": "isNdV5EWjPP-",
        "outputId": "1d132d91-b8d6-4bea-c838-b38a2212a91e"
      },
      "outputs": [
        {
          "name": "stdout",
          "output_type": "stream",
          "text": [
            "Drive already mounted at /content/drive; to attempt to forcibly remount, call drive.mount(\"/content/drive\", force_remount=True).\n"
          ]
        }
      ],
      "source": [
        "from google.colab import drive\n",
        "drive.mount('/content/drive')"
      ]
    },
    {
      "cell_type": "code",
      "execution_count": 2,
      "metadata": {
        "id": "69TLwKhlfJUD"
      },
      "outputs": [],
      "source": [
        "import numpy as np\n",
        "import matplotlib.pyplot as plt\n",
        "import numpy as np\n",
        "import matplotlib.pyplot as plt\n",
        "import matplotlib.image as img\n",
        "\n",
        "from scipy import misc\n",
        "import cv2\n",
        "  "
      ]
    },
    {
      "cell_type": "code",
      "execution_count": 3,
      "metadata": {
        "id": "c8iI298adJMC"
      },
      "outputs": [],
      "source": [
        "import numpy as np\n",
        "import time\n",
        "from tqdm import tqdm\n",
        "import matplotlib.pyplot as plt"
      ]
    },
    {
      "cell_type": "code",
      "execution_count": 4,
      "metadata": {
        "id": "naivuW0TsFEM"
      },
      "outputs": [],
      "source": [
        "image=cv2.imread('/content/drive/MyDrive/road.jpg',cv2.COLOR_BGR2GRAY)"
      ]
    },
    {
      "cell_type": "code",
      "execution_count": 5,
      "metadata": {
        "colab": {
          "base_uri": "https://localhost:8080/"
        },
        "id": "D6r8ABbhsLR7",
        "outputId": "ffe022e8-3f38-4da9-9408-a869994e97e2"
      },
      "outputs": [
        {
          "data": {
            "text/plain": [
              "(2048, 2048)"
            ]
          },
          "execution_count": 5,
          "metadata": {},
          "output_type": "execute_result"
        }
      ],
      "source": [
        "image.shape"
      ]
    },
    {
      "cell_type": "markdown",
      "metadata": {
        "id": "T2FLcsBTZSPY"
      },
      "source": [
        "# K-Means from Scratch"
      ]
    },
    {
      "cell_type": "code",
      "execution_count": 6,
      "metadata": {
        "id": "HGFdQuZOsMR2"
      },
      "outputs": [],
      "source": [
        "import numpy as np\n",
        "import cv2\n",
        "import matplotlib.pyplot as plt\n",
        "from google.colab.patches import cv2_imshow\n",
        "\n",
        "def Kmeans_scratch(image,k,iters=3):\n",
        "    img=image.copy()\n",
        "    h,w=img.shape\n",
        "    orig=image.copy()\n",
        "    Klusters=np.random.randint(0,255,size=k)  # Initializing Clusters Centroids\n",
        "    print('init clusters', Klusters)\n",
        "    for it in range(iters):\n",
        "        img=image.copy()\n",
        "        for i in range(h):\n",
        "            for j in range(w):\n",
        "                pnt=img[i][j]\n",
        "                diff=np.abs(Klusters-pnt) # The distance from Centroid to pixels\n",
        "                c=np.argmin(diff)         # Closest Point is chosn as centroid and updated\n",
        "                img[i][j]=Klusters[c]\n",
        "    loss=0\n",
        "    l=[]\n",
        "    for i in range(k):\n",
        "        Ys,Xs=np.where(img==Klusters[i])\n",
        "        kth_points=orig[Ys,Xs]\n",
        "        l.append(np.sum(Klusters[i]-kth_points))\n",
        "        Klusters[i]=np.mean(kth_points)\n",
        "    loss=np.sum(l)    \n",
        "    print('Cluster centroids at iteration-{}'.format(it+1), Klusters)\n",
        "    return Klusters"
      ]
    },
    {
      "cell_type": "markdown",
      "metadata": {
        "id": "AHeoeL5lZutz"
      },
      "source": [
        "# K-Means Inbuit Function"
      ]
    },
    {
      "cell_type": "code",
      "execution_count": 7,
      "metadata": {
        "id": "CfpWQnO1Zz7y"
      },
      "outputs": [],
      "source": [
        "from sklearn import cluster\n",
        "def Kmeans_inbuit(image,k):\n",
        "  km=cluster.KMeans(n_clusters=k)\n",
        "  km.fit(image)\n",
        "  ym=km.predict(image)\n",
        "  print(ym)\n",
        "\n",
        "  return ym"
      ]
    },
    {
      "cell_type": "markdown",
      "metadata": {
        "id": "RpySbEFPZ0au"
      },
      "source": [
        "# Runtime Testing"
      ]
    },
    {
      "cell_type": "markdown",
      "metadata": {
        "id": "pKvqbk2ccFB1"
      },
      "source": [
        "**K-Means From Scratch**"
      ]
    },
    {
      "cell_type": "code",
      "execution_count": 8,
      "metadata": {
        "colab": {
          "base_uri": "https://localhost:8080/"
        },
        "id": "zIVo1iK4Z3Dm",
        "outputId": "b3a2ada5-c876-4b57-8ebd-f0895e2a772c"
      },
      "outputs": [
        {
          "name": "stdout",
          "output_type": "stream",
          "text": [
            "init clusters [192  99  17 185]\n",
            "Cluster centroids at iteration-3 [206  88  39 171]\n",
            "init clusters [  4  89 136  98]\n",
            "Cluster centroids at iteration-3 [ 34  65 184 103]\n",
            "init clusters [ 14  95 213 159]\n",
            "Cluster centroids at iteration-3 [ 38  82 204 163]\n",
            "init clusters [ 86 149 169  76]\n",
            "Cluster centroids at iteration-3 [ 96 138 196  47]\n",
            "init clusters [ 51 163 114 130]\n",
            "Cluster centroids at iteration-3 [ 48 192  99 134]\n",
            "init clusters [237  32 153 116]\n",
            "Cluster centroids at iteration-3 [209  45 173  97]\n",
            "init clusters [116  26  24 179]\n",
            "Cluster centroids at iteration-3 [ 99  46  19 193]\n",
            "init clusters [245 170  17 223]\n",
            "Cluster centroids at iteration-3 [239 149  51 208]\n",
            "init clusters [235 191 181 223]\n",
            "Cluster centroids at iteration-3 [237 196  77 214]\n",
            "init clusters [ 55 162  57 236]\n",
            "Cluster centroids at iteration-3 [ 39 166  79 213]\n"
          ]
        }
      ],
      "source": [
        "runtime = []\n",
        "#for n in tqdm(100):\n",
        "sum=0\n",
        "for a in range(10):  \n",
        "  \n",
        "  start = time.time()\n",
        "  \n",
        "  Kmeans_scratch(image,k=4)\n",
        "      \n",
        "  end = time.time()\n",
        "\n",
        "  sum+=(end-start)\n",
        "\n",
        "  if a == 9:\n",
        "    runtime.append(sum/10)"
      ]
    },
    {
      "cell_type": "code",
      "execution_count": 9,
      "metadata": {
        "colab": {
          "base_uri": "https://localhost:8080/"
        },
        "id": "srI-PBtnplTu",
        "outputId": "df519cce-f4da-426b-8309-9d80f9b9871f"
      },
      "outputs": [
        {
          "data": {
            "text/plain": [
              "[82.34755582809449]"
            ]
          },
          "execution_count": 9,
          "metadata": {},
          "output_type": "execute_result"
        }
      ],
      "source": [
        "runtime"
      ]
    },
    {
      "cell_type": "markdown",
      "metadata": {
        "id": "3FF_KSTucJFS"
      },
      "source": [
        "**K-Means Inbuilt Function**"
      ]
    },
    {
      "cell_type": "code",
      "execution_count": 10,
      "metadata": {
        "colab": {
          "base_uri": "https://localhost:8080/"
        },
        "id": "hMEIcGCbcWfI",
        "outputId": "638f1c01-b7fb-497f-86e7-28a8c430d60c"
      },
      "outputs": [
        {
          "name": "stdout",
          "output_type": "stream",
          "text": [
            "[2 2 2 ... 1 1 1]\n",
            "[1 1 1 ... 3 3 3]\n",
            "[0 0 0 ... 1 1 1]\n",
            "[0 0 0 ... 1 1 1]\n",
            "[1 1 1 ... 3 3 3]\n",
            "[1 1 1 ... 2 2 2]\n",
            "[1 1 1 ... 0 0 0]\n",
            "[1 1 1 ... 0 0 0]\n",
            "[1 1 1 ... 0 0 0]\n",
            "[0 0 0 ... 3 3 3]\n"
          ]
        }
      ],
      "source": [
        "runtime1 = []\n",
        "#for n in tqdm(100):\n",
        "sum=0\n",
        "for a in range(10):  \n",
        "  \n",
        "  start = time.time()\n",
        "  \n",
        "  Kmeans_inbuit(image,k=4)\n",
        "      \n",
        "  end = time.time()\n",
        "\n",
        "  sum+=(end-start)\n",
        "\n",
        "  if a == 9:\n",
        "    runtime1.append(sum/10)"
      ]
    },
    {
      "cell_type": "code",
      "execution_count": 11,
      "metadata": {
        "colab": {
          "base_uri": "https://localhost:8080/"
        },
        "id": "y4UIwjmqr4E3",
        "outputId": "dfce76d6-ebaf-471b-da20-79140b0aba44"
      },
      "outputs": [
        {
          "data": {
            "text/plain": [
              "[2.439453363418579]"
            ]
          },
          "execution_count": 11,
          "metadata": {},
          "output_type": "execute_result"
        }
      ],
      "source": [
        "runtime1"
      ]
    },
    {
      "cell_type": "markdown",
      "metadata": {
        "id": "yeybj7fMkqM1"
      },
      "source": [
        "The runtime of the builtin funtion is considerably less than the function we implemented from scratch.\n",
        "\n",
        "> \n",
        "\n",
        "The runtime of the implemented function is large because there are a lot of computation involved along with indexing and parsing finding the centroid of the clusters. "
      ]
    }
  ],
  "metadata": {
    "colab": {
      "provenance": []
    },
    "kernelspec": {
      "display_name": "Python 3",
      "name": "python3"
    },
    "language_info": {
      "name": "python"
    }
  },
  "nbformat": 4,
  "nbformat_minor": 0
}
