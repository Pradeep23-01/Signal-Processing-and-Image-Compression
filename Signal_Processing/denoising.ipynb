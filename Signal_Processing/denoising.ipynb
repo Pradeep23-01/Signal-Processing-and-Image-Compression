{
  "cells": [
    {
      "cell_type": "code",
      "execution_count": 12,
      "metadata": {
        "id": "c_0tMHizm4xx"
      },
      "outputs": [],
      "source": [
        "import numpy as np\n",
        "from matplotlib import pyplot as plt\n",
        "from scipy import optimize as op\n",
        "from scipy.stats import norm"
      ]
    },
    {
      "cell_type": "markdown",
      "metadata": {
        "id": "A2KarP6kapTz"
      },
      "source": [
        "# Denoising Function"
      ]
    },
    {
      "cell_type": "code",
      "execution_count": 13,
      "metadata": {
        "id": "XOWdhhtWmuhh"
      },
      "outputs": [],
      "source": [
        "def denoise(v,var_x,var_z,epsilon):\n",
        "\n",
        "    term1 = (1-epsilon)*norm.pdf(v,0,np.sqrt(var_z))\n",
        "    term2 = epsilon*norm.pdf(v,0,np.sqrt(var_x+var_z))\n",
        "    xW = var_x/(var_x+var_z)*v # Wiener filter\n",
        "    added_term = term1+term2\n",
        "    div_term = np.divide(term2,added_term)\n",
        "    xhat = np.multiply(div_term, xW) # denoised version, x(t+1)\n",
        "\n",
        "    # empirical derivative\n",
        "    Delta = 0.0000000001 # perturbation\n",
        "    term1_d = (1-epsilon)*norm.pdf((v+Delta),0,np.sqrt(var_z))\n",
        "    term2_d = epsilon*norm.pdf((v+Delta),0,np.sqrt(var_x+var_z))\n",
        "    xW2 = var_x/(var_x+var_z)*(v+Delta) # Wiener filter\n",
        "\n",
        "    added_term = term1_d+term2_d\n",
        "    mul_term = np.multiply(xW2,term2_d)\n",
        "    xhat2 = np.divide(mul_term,added_term)\n",
        "    d = (xhat2-xhat)/Delta\n",
        "    return xhat,d"
      ]
    },
    {
      "cell_type": "markdown",
      "metadata": {
        "id": "VC-JbZsoawcX"
      },
      "source": [
        "# Defining Variables"
      ]
    },
    {
      "cell_type": "code",
      "execution_count": 14,
      "metadata": {
        "id": "ekxrbINlm-zN"
      },
      "outputs": [],
      "source": [
        "# y = np.sqrt(gamma)*A*x + z\n",
        "# solve for x given y,A\n",
        "N = 2000 # length of signal\n",
        "M = 500 # number of measurements\n",
        "delta = M/N # measurement rate\n",
        "gamma=20 # SNR\n"
      ]
    },
    {
      "cell_type": "code",
      "execution_count": 15,
      "metadata": {
        "id": "pt1LsLDvnVsV"
      },
      "outputs": [],
      "source": [
        "# signal parameters\n",
        "var_x=1\n",
        "epsilon = 0.05 # probability of nonzero signal\n",
        "\n",
        "# AMP parameters\n",
        "max_iter = 40 # number of AMP iterations\n",
        "lamda = 0.3 # damping parameter can't use 'lambda' since that is a python keyword\n"
      ]
    },
    {
      "cell_type": "code",
      "execution_count": 16,
      "metadata": {
        "colab": {
          "base_uri": "https://localhost:8080/"
        },
        "id": "6PTH_7U2nYs9",
        "outputId": "f2b62d8a-1913-49cf-f8fe-1ba075b9caab"
      },
      "outputs": [
        {
          "name": "stdout",
          "output_type": "stream",
          "text": [
            "[[-0.03873432 -0.00297881  0.01059183 ... -0.12480901  0.06669316\n",
            "  -0.0452748 ]\n",
            " [ 0.02913736  0.02898406 -0.02891789 ... -0.03582014  0.03826349\n",
            "  -0.0047856 ]\n",
            " [-0.03474547  0.02977628 -0.07128241 ... -0.02202449  0.07124842\n",
            "  -0.00144901]\n",
            " ...\n",
            " [ 0.03025343  0.08130361 -0.06130621 ...  0.01950154 -0.01186216\n",
            "   0.04956357]\n",
            " [ 0.01654722 -0.03583972  0.00924568 ...  0.07072807  0.01721913\n",
            "  -0.02770157]\n",
            " [ 0.02140179 -0.02776316  0.04583285 ... -0.00662029 -0.03072815\n",
            "  -0.04118109]]\n"
          ]
        }
      ],
      "source": [
        "# generate signal\n",
        "# f_X(x) = epsilon*N(0,1)+(1-epsilon)*delta(x)\n",
        "x = (np.random.rand(N,1)<epsilon)*np.random.randn(N,1) \n",
        "\n",
        "# matrix\n",
        "A = 1/np.sqrt(M)*np.random.randn(M,N) # unit norm columns\n",
        "print(A)\n",
        "Atrans = np.transpose(A)# transpose of A"
      ]
    },
    {
      "cell_type": "markdown",
      "metadata": {
        "id": "C2x21wJqv_dh"
      },
      "source": [
        "# Snippet of Signal"
      ]
    },
    {
      "cell_type": "code",
      "execution_count": 17,
      "metadata": {
        "colab": {
          "base_uri": "https://localhost:8080/",
          "height": 265
        },
        "id": "yEu_CGboIa6X",
        "outputId": "7d480526-9958-4fbf-ea7b-8564c02bdb00"
      },
      "outputs": [
        {
          "data": {
            "image/png": "[encoded data removed]",
            "text/plain": [
              "<Figure size 432x288 with 1 Axes>"
            ]
          },
          "metadata": {
            "needs_background": "light"
          },
          "output_type": "display_data"
        }
      ],
      "source": [
        "# Mark each data value and customize the linestyle:\n",
        "plt.plot(x[1:200], marker = \"o\", linestyle = \"--\")\n",
        "plt.show()"
      ]
    },
    {
      "cell_type": "code",
      "execution_count": 19,
      "metadata": {
        "id": "cCU7nSi9nbTB"
      },
      "outputs": [],
      "source": [
        "# measurements\n",
        "# y = np.sqrt(gamma)*A*x + z\n",
        "y = np.sqrt(gamma)*np.dot(A,x) + np.random.randn(M,1)# measurements\n",
        "\n",
        "# normalize differently with gamma\n",
        "y=y/np.sqrt(gamma)"
      ]
    },
    {
      "cell_type": "markdown",
      "metadata": {
        "id": "4nHCK0yfv67s"
      },
      "source": [
        "# Plot with MSE vs Iterations"
      ]
    },
    {
      "cell_type": "code",
      "execution_count": 20,
      "metadata": {
        "colab": {
          "base_uri": "https://localhost:8080/",
          "height": 314
        },
        "id": "HmejxaPkndjn",
        "outputId": "f5a2c0c0-ca0b-4b06-bbdf-71a00f097a45"
      },
      "outputs": [
        {
          "name": "stdout",
          "output_type": "stream",
          "text": [
            "AMP error = [0.00986564]\n",
            "\n"
          ]
        },
        {
          "data": {
            "image/png": "[encoded data removed]",
            "text/plain": [
              "<Figure size 432x288 with 1 Axes>"
            ]
          },
          "metadata": {
            "needs_background": "light"
          },
          "output_type": "display_data"
        }
      ],
      "source": [
        "# AMP algorithm\n",
        "# initialization\n",
        "mse = np.zeros((max_iter,1)) # store mean square error\n",
        "xt = np.zeros((N,1))# estimate of signal\n",
        "dt = np.zeros((N,1))# derivative of denoiser\n",
        "rt = np.zeros((M,1))# residual\n",
        "\n",
        "for iter in range(0,max_iter):\n",
        "    # update residual\n",
        "    rt = y - np.dot(A,xt) + 1/delta*np.mean(dt)*rt\n",
        "    # compute pseudo-data\n",
        "    vt = xt + np.dot(Atrans,rt)\n",
        "    # estimate scalar channel noise variance estimator is due to Montanari\n",
        "    var_t = np.mean(rt**2)\n",
        "    # denoising\n",
        "    xt1,dt = denoise(vt,var_x,var_t,epsilon)\n",
        "    # damping step\n",
        "    xt=lamda*xt1+(1-lamda)*xt\n",
        "    mse[iter] = np.mean((xt-x)**2)\n",
        "\n",
        "## plot result\n",
        "#figure\n",
        "plt.plot(mse,'o-')\n",
        "plt.xlabel('Iteration')\n",
        "plt.ylabel('MSE')\n",
        "print('AMP error = {}\\n'.format(min(mse)))\n"
      ]
    },
    {
      "cell_type": "markdown",
      "metadata": {
        "id": "mP44Mu6B6PIL"
      },
      "source": [
        "# Snippet of Denoised Signal"
      ]
    },
    {
      "cell_type": "code",
      "execution_count": 21,
      "metadata": {
        "colab": {
          "base_uri": "https://localhost:8080/",
          "height": 265
        },
        "id": "EiLwtjVX5Rvg",
        "outputId": "fd489174-153d-47d4-ca49-06269209a84a"
      },
      "outputs": [
        {
          "data": {
            "image/png": "[encoded data removed]",
            "text/plain": [
              "<Figure size 432x288 with 1 Axes>"
            ]
          },
          "metadata": {
            "needs_background": "light"
          },
          "output_type": "display_data"
        }
      ],
      "source": [
        "plt.plot(xt1[1:200], marker = \"o\", linestyle = \"--\")\n",
        "plt.show()"
      ]
    },
    {
      "cell_type": "markdown",
      "metadata": {
        "id": "ySYZNyRzvzyF"
      },
      "source": [
        "# Plot with Varying MSE vs SNR values "
      ]
    },
    {
      "cell_type": "code",
      "execution_count": 22,
      "metadata": {
        "colab": {
          "base_uri": "https://localhost:8080/",
          "height": 314
        },
        "id": "UJs7vFvpvwyu",
        "outputId": "1c0e66fc-1b31-4004-de4f-644b83122331"
      },
      "outputs": [
        {
          "name": "stdout",
          "output_type": "stream",
          "text": [
            "AMP error = 0.003995013693065403\n",
            "\n"
          ]
        },
        {
          "data": {
            "image/png": "[encoded data removed]",
            "text/plain": [
              "<Figure size 432x288 with 1 Axes>"
            ]
          },
          "metadata": {
            "needs_background": "light"
          },
          "output_type": "display_data"
        }
      ],
      "source": [
        "mse_snr = [] #np.zeros((max_iter,1)) # store mean square error\n",
        "xt_1 = np.zeros((N,1))# estimate of signal\n",
        "dt_1 = np.zeros((N,1))# derivative of denoiser\n",
        "rt_1 = np.zeros((M,1))# residual\n",
        "\n",
        "SNR=[10,20,30,40,50,60,70,80,90,100]\n",
        "\n",
        "for snr in SNR:\n",
        "    y = np.sqrt(snr)*np.dot(A,x) + np.random.randn(M,1)# measurements\n",
        "\n",
        "    # normalize differently with gamma\n",
        "    y=y/np.sqrt(snr)\n",
        "    # update residual\n",
        "    rt_1 = y - np.dot(A,xt_1) + 1/delta*np.mean(dt_1)*rt_1\n",
        "    # compute pseudo-data\n",
        "    vt = xt_1 + np.dot(Atrans,rt_1)\n",
        "    # estimate scalar channel noise variance estimator is due to Montanari\n",
        "    var_t = np.mean(rt_1**2)\n",
        "    # denoising\n",
        "    xt1,dt_1 = denoise(vt,var_x,var_t,epsilon)\n",
        "    # damping step\n",
        "    xt_1=lamda*xt1+(1-lamda)*xt_1\n",
        "    mse_snr.append(np.mean((xt_1-x)**2))\n",
        "    #np.append(mse_snr, np.mean((xt_1-x)**2) )\n",
        "\n",
        "## plot result\n",
        "#figure\n",
        "plt.plot(SNR, mse_snr,'o-')\n",
        "plt.xlabel('SNR')\n",
        "plt.ylabel('MSE')\n",
        "print('AMP error = {}\\n'.format(min(mse_snr)))"
      ]
    }
  ],
  "metadata": {
    "colab": {
      "provenance": []
    },
    "kernelspec": {
      "display_name": "Python 3",
      "name": "python3"
    },
    "language_info": {
      "name": "python"
    }
  },
  "nbformat": 4,
  "nbformat_minor": 0
}
