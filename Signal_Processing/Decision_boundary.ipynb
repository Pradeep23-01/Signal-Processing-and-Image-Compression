{
  "cells": [
    {
      "cell_type": "code",
      "execution_count": 1,
      "metadata": {
        "id": "c4B1TwFkKheg"
      },
      "outputs": [],
      "source": [
        "import numpy as np\n",
        "from matplotlib import pyplot as plt\n",
        "import pandas as pd"
      ]
    },
    {
      "cell_type": "code",
      "execution_count": 2,
      "metadata": {
        "id": "caOhtoeqKqkz"
      },
      "outputs": [],
      "source": [
        "# parameters\n",
        "\n",
        "num_clusters=5             # number of components (clusters) in mixture model\n",
        "N=50                       # total number of samples of training data\n",
        "step=0.1\n",
        "grid=np.arange(-3,3+step,step)     # test data grid for each dimension\n",
        "num_neighbors=3                    # number of neighbors used in nearest neighbors"
      ]
    },
    {
      "cell_type": "markdown",
      "metadata": {
        "id": "ESdHQFpIVfEm"
      },
      "source": [
        "# 2D Gaussian Mixture data"
      ]
    },
    {
      "cell_type": "code",
      "execution_count": 3,
      "metadata": {
        "colab": {
          "base_uri": "https://localhost:8080/"
        },
        "id": "a62fkI_MKnGQ",
        "outputId": "8770170f-5a82-4fe1-bb6d-2f73a41338bb"
      },
      "outputs": [
        {
          "data": {
            "text/plain": [
              "array([[ 2.28253316,  1.25792651, -0.08782747,  0.93544149,  1.6632034 ],\n",
              "       [-0.66277866,  1.01878007, -0.73063043,  0.15556737,  0.19409825]])"
            ]
          },
          "execution_count": 3,
          "metadata": {},
          "output_type": "execute_result"
        }
      ],
      "source": [
        "# mixture models\n",
        "\n",
        "Gmean=np.random.randn(2,num_clusters)  # locations of centers of clusters for green class\n",
        "Rmean=np.random.randn(2,num_clusters)  # -\"- red class\n",
        "Gmean"
      ]
    },
    {
      "cell_type": "code",
      "execution_count": 4,
      "metadata": {
        "id": "XbCHblm4KwA4"
      },
      "outputs": [],
      "source": [
        "# training data\n",
        "\n",
        "samples=np.zeros((2,N))                   # locations of samples in 2 dimensions\n",
        "class_samples=np.zeros((N,1))             # class of each one (green or red)\n",
        "cluster_variance=0.1                      # variance of each cluster around its mean\n",
        "for n in range(1,int(N/2)):\n",
        "    Gcluster=int(np.ceil(np.random.rand(1)*num_clusters))    # select green cluster\n",
        "    Rcluster=int(np.ceil(np.random.rand(1)*num_clusters))    # -\"- red\n",
        "    samples[:,n]=Gmean[:,Gcluster-1]+np.sqrt(cluster_variance)*np.random.randn(2) # generate green sample\n",
        "    samples[:,int(n+N/2)]=Rmean[:,Rcluster-1]+np.sqrt(cluster_variance+0.2)*np.random.randn(2)   # -\"- red\n",
        "    class_samples[n]=1 # green\n",
        "    class_samples[int(n+N/2)]=0 # red"
      ]
    },
    {
      "cell_type": "code",
      "execution_count": 5,
      "metadata": {
        "id": "Kif8OP2FKze-"
      },
      "outputs": [],
      "source": [
        "# test data - basically a 2-D grid\n",
        "\n",
        "test_samples=np.zeros((2,np.size(grid)**2))                      # locations of test samples\n",
        "for n1 in range(1,np.size(grid)):\n",
        "    for n2 in range(1,np.size(grid)):\n",
        "        test_samples[0,int(n1+np.size(grid)*(n2-1))]=grid[n1]      # first coordinate\n",
        "        test_samples[1,int(n1+np.size(grid)*(n2-1))]=grid[n2]      # second "
      ]
    },
    {
      "cell_type": "code",
      "execution_count": 6,
      "metadata": {
        "id": "-BZ_Bat3aX2j"
      },
      "outputs": [],
      "source": [
        "# class_samples                  # Target"
      ]
    },
    {
      "cell_type": "code",
      "execution_count": 7,
      "metadata": {
        "id": "fn7CAxlHaYx0"
      },
      "outputs": [],
      "source": [
        "# np.transpose(samples)          # Input"
      ]
    },
    {
      "cell_type": "code",
      "execution_count": 8,
      "metadata": {
        "colab": {
          "base_uri": "https://localhost:8080/"
        },
        "id": "fSHLMTaCiY2s",
        "outputId": "50828fc6-a862-46d5-a8a1-b2ff79d2a408"
      },
      "outputs": [
        {
          "data": {
            "text/plain": [
              "(3721, 2)"
            ]
          },
          "execution_count": 8,
          "metadata": {},
          "output_type": "execute_result"
        }
      ],
      "source": [
        "np.transpose(test_samples).shape"
      ]
    },
    {
      "cell_type": "markdown",
      "metadata": {
        "id": "cTfVaqwRVoTG"
      },
      "source": [
        "# Models"
      ]
    },
    {
      "cell_type": "markdown",
      "metadata": {
        "id": "9Qks3KGVZUSM"
      },
      "source": [
        "# Linear Model"
      ]
    },
    {
      "cell_type": "code",
      "execution_count": 9,
      "metadata": {
        "colab": {
          "base_uri": "https://localhost:8080/"
        },
        "id": "leVyT0HVK2QG",
        "outputId": "10617e45-2c55-4a8d-cc03-0802987537b2"
      },
      "outputs": [
        {
          "name": "stderr",
          "output_type": "stream",
          "text": [
            "/usr/local/lib/python3.7/dist-packages/ipykernel_launcher.py:5: FutureWarning: `rcond` parameter will change to the default of machine precision times ``max(M, N)`` where M and N are the input matrix dimensions.\n",
            "To use the future default and silence this warning we advise to pass `rcond=None`, to keep using the old, explicitly pass `rcond=-1`.\n",
            "  \"\"\"\n"
          ]
        }
      ],
      "source": [
        "# run classifiers on test grid\n",
        "\n",
        "# linear model\n",
        "\n",
        "beta,_,_,_ = np.linalg.lstsq(class_samples,np.transpose(samples)) # compute coefficients of least squares\n",
        "beta=np.reshape(beta, (2,))\n",
        "test_linear=(np.dot(beta,test_samples)>0.5)"
      ]
    },
    {
      "cell_type": "markdown",
      "metadata": {
        "id": "sW1gDg0VZXCj"
      },
      "source": [
        "# Nearest Neighbor Model"
      ]
    },
    {
      "cell_type": "code",
      "execution_count": 10,
      "metadata": {
        "id": "Xlq7sBbwK46w"
      },
      "outputs": [],
      "source": [
        "# nearest neighbors \n",
        "\n",
        "test_NN=np.zeros((np.size(grid)**2,1))           # classification results on test data\n",
        "for n1 in range(0,np.size(grid)-1):\n",
        "    for n2 in range (0,np.size(grid)-1):\n",
        "        distances=(grid[n1]-samples[0,:])**2+(grid[n2]-samples[1,:])**2  # distances to training samples\n",
        "        distances_sort = np.sort(distances)\n",
        "        distances_index = np.argsort(distances)\n",
        "        neighbors=distances_index[0:num_neighbors]\n",
        "        class_predicted=((np.sum(class_samples[neighbors-1])/num_neighbors)>0.5) # NN classifier\n",
        "        test_NN[n1+np.size(grid)*(n2-1)-1]=class_predicted    # store classification"
      ]
    },
    {
      "attachments": {},
      "cell_type": "markdown",
      "metadata": {
        "id": "ftQbDN9DZbeh"
      },
      "source": [
        "# Baysian Classifier"
      ]
    },
    {
      "cell_type": "code",
      "execution_count": 11,
      "metadata": {
        "id": "Ddpgd1TFZ3oZ"
      },
      "outputs": [],
      "source": [
        "# Example of calculating class probabilities\n",
        "import math\n",
        "from math import sqrt\n",
        "from math import pi\n",
        "from math import exp\n",
        "# Split the dataset by class values, returns a dictionary\n",
        "def separate_by_class(dataset):\n",
        "\n",
        "\tseparated = dict()\n",
        " \n",
        "\tfor i in range(len(dataset)):\n",
        "\t\tvector = dataset[i]\n",
        "\t\tclass_value = vector[-1] # identify class value Red(0) or Green(1)\n",
        "\t\tif (class_value not in separated):\n",
        "\t\t\tseparated[class_value] = list()\n",
        "\t\tseparated[class_value].append(vector)\n",
        "\treturn separated\n",
        " \n",
        "# Calculate the mean of a list of numbers\n",
        "def mean(numbers):\n",
        "\treturn sum(numbers)/float(len(numbers))\n",
        " \n",
        "# Calculate the standard deviation of a list of numbers\n",
        "def stdev(numbers):\n",
        "\tavg = mean(numbers)\n",
        "\tvariance = sum([(x-avg)**2 for x in numbers]) / float(len(numbers)-1)\n",
        "\treturn sqrt(variance)\n",
        " \n",
        "# Calculate the mean, stdev and count for each column in a dataset\n",
        "def summarize_dataset(dataset):\n",
        "\tsummaries = [(mean(column), stdev(column), len(column)) for column in zip(*dataset)]\n",
        "\tdel(summaries[-1])\n",
        "\treturn summaries\n",
        " \n",
        "# Split dataset by class then calculate statistics for each row\n",
        "def summarize_by_class(dataset):\n",
        "\tseparated = separate_by_class(dataset)\n",
        "\tsummaries = dict()\n",
        "\tfor class_value, rows in separated.items():\n",
        "\t\tsummaries[class_value] = summarize_dataset(rows)\n",
        "\treturn summaries\n",
        " \n",
        "# Calculate the Gaussian probability distribution function for x\n",
        "def calculate_probability(x, mean, stdev):\n",
        "\texponent = exp(-((x-mean)**2 / (2 * stdev**2 )))\n",
        "\treturn (1 / (sqrt(2 * pi) * stdev)) * exponent\n",
        " \n",
        "# Calculate the probabilities of predicting each class for a given row\n",
        "def calculate_class_probabilities(summaries, row):\n",
        "\ttotal_rows = sum([summaries[label][0][2] for label in summaries])\n",
        "\tprobabilities = dict()\n",
        "\tfor class_value, class_summaries in summaries.items():\n",
        "\t\tprobabilities[class_value] = summaries[class_value][0][2]/float(total_rows)\n",
        "\t\tfor i in range(len(class_summaries)):\n",
        "\t\t\tmean, stdev, _ = class_summaries[i]\n",
        "\t\t\tprobabilities[class_value] *= calculate_probability(row[i], mean, stdev)\n",
        "\treturn probabilities\n",
        " \n",
        "# Predict the class for a given row\n",
        "def predict(summaries, row):\n",
        "\tprobabilities = calculate_class_probabilities(summaries, row)\n",
        "\tbest_label, best_prob = None, -1\n",
        "\tfor class_value, probability in probabilities.items():\n",
        "\t\tif best_label is None or probability > best_prob:\n",
        "\t\t\tbest_prob = probability\n",
        "\t\t\tbest_label = class_value\n",
        "\treturn best_label"
      ]
    },
    {
      "cell_type": "code",
      "execution_count": 12,
      "metadata": {
        "id": "dKJ3W9TAa8xD"
      },
      "outputs": [],
      "source": [
        "samples_T=np.transpose(samples)\n",
        "#(cordinate_x, cordinate_y,class value defining the Green(1) or Red(0) \n",
        "dataset=[0]*N             # An empty list to store data\n",
        "\n",
        "# class_samples, np.transpose(samples)\n",
        "#{0:xyz , 1: abc}\n",
        "for i in range(samples_T.shape[0]):\n",
        "  dataset[i]= np.append( samples_T[i], class_samples[i] )\n"
      ]
    },
    {
      "cell_type": "code",
      "execution_count": 13,
      "metadata": {
        "colab": {
          "base_uri": "https://localhost:8080/"
        },
        "id": "XCkbUCn9Z6Xd",
        "outputId": "d708827b-fd27-4ea9-8397-634e7aff432d"
      },
      "outputs": [
        {
          "name": "stdout",
          "output_type": "stream",
          "text": [
            "{0.0: 0.08199502233466063, 1.0: 0.052041657485052635}\n"
          ]
        }
      ],
      "source": [
        "# Test calculating class probabilities\n",
        "\n",
        "summaries = summarize_by_class(dataset)\n",
        "probabilities = calculate_class_probabilities(summaries, dataset[0])\n",
        "print(probabilities)"
      ]
    },
    {
      "cell_type": "code",
      "execution_count": 14,
      "metadata": {
        "colab": {
          "base_uri": "https://localhost:8080/"
        },
        "id": "rEJmVthCgKM6",
        "outputId": "89fc08fe-7934-40d6-c797-c1fe3c48622f"
      },
      "outputs": [
        {
          "data": {
            "text/plain": [
              "{0.0: [(-0.42646788021120885, 1.000294067133731, 26),\n",
              "  (0.0003838089064984643, 0.9213780269023567, 26)],\n",
              " 1.0: [(1.107490345341973, 0.767650010972453, 24),\n",
              "  (0.1402623739338578, 0.6603625936959705, 24)]}"
            ]
          },
          "execution_count": 14,
          "metadata": {},
          "output_type": "execute_result"
        }
      ],
      "source": [
        "summaries"
      ]
    },
    {
      "cell_type": "code",
      "execution_count": 41,
      "metadata": {
        "id": "CZUXfsM6h9qN"
      },
      "outputs": [],
      "source": [
        "test_samples_T=np.transpose(test_samples)\n",
        "label=[0]*test_samples_T.shape[0]\n",
        "\n",
        "for i in range(test_samples_T.shape[0]):\n",
        "  label[i] = predict(summaries, test_samples_T[i]   ) # Baysian Classifier Prediction\n",
        "#print('Data=%s, Predicted: %s' % (test_samples_T[i] , label))"
      ]
    },
    {
      "attachments": {},
      "cell_type": "markdown",
      "metadata": {
        "id": "6f8kUb66H_JT"
      },
      "source": [
        "# QDA"
      ]
    },
    {
      "cell_type": "code",
      "execution_count": 17,
      "metadata": {
        "id": "GOGDK4W0TIUP"
      },
      "outputs": [],
      "source": [
        "import numpy\n",
        "\n",
        "class QDA:\n",
        "    def fit(self, X, t):\n",
        "        self.priors = dict()\n",
        "        self.means = dict()\n",
        "        self.covs = dict()\n",
        "        \n",
        "        self.classes = np.unique(t)\n",
        "\n",
        "        for c in self.classes:\n",
        "            X_c = X[t == c]\n",
        "            self.priors[c] = X_c.shape[0] / X.shape[0]\n",
        "            self.means[c] = np.mean(X_c, axis=0)\n",
        "            self.covs[c] = np.cov(X_c, rowvar=False)\n",
        "\n",
        "    def predict(self, X):\n",
        "        preds = list()\n",
        "        for x in X:\n",
        "            posts = list()\n",
        "            for c in self.classes:\n",
        "                prior = np.log(self.priors[c])\n",
        "                inv_cov = np.linalg.inv(self.covs[c])\n",
        "                inv_cov_det = np.linalg.det(inv_cov)\n",
        "                diff = x-self.means[c]\n",
        "                likelihood = 0.5*np.log(inv_cov_det) - 0.5*diff.T @ inv_cov @ diff\n",
        "                post = prior + likelihood\n",
        "                posts.append(post)\n",
        "            pred = self.classes[np.argmax(posts)]\n",
        "            preds.append(pred)\n",
        "        return np.array(preds)"
      ]
    },
    {
      "cell_type": "code",
      "execution_count": 18,
      "metadata": {
        "id": "RgfmB85RTTpZ"
      },
      "outputs": [],
      "source": [
        "data= pd.DataFrame(dataset)"
      ]
    },
    {
      "cell_type": "code",
      "execution_count": 20,
      "metadata": {
        "id": "4koPy-3kTJCV"
      },
      "outputs": [],
      "source": [
        "X = data.iloc[:, 0:2]\n",
        "t = data.iloc[:, -1]\n",
        "\n",
        "qda = QDA()\n",
        "qda.fit(X, t)\n",
        "preds_tr = qda.predict(X)"
      ]
    },
    {
      "cell_type": "code",
      "execution_count": 21,
      "metadata": {
        "id": "ef9teIkaT1EF"
      },
      "outputs": [],
      "source": [
        "preds_test = qda.predict(test_samples_T)"
      ]
    },
    {
      "cell_type": "markdown",
      "metadata": {
        "id": "ZcyieysDLYG_"
      },
      "source": [
        "# Plot using Linear CLassifier"
      ]
    },
    {
      "cell_type": "code",
      "execution_count": 23,
      "metadata": {
        "colab": {
          "base_uri": "https://localhost:8080/",
          "height": 265
        },
        "id": "NUa3pg4yLPww",
        "outputId": "da369736-06ae-4650-f48d-4cf35333822a"
      },
      "outputs": [
        {
          "data": {
            "image/png": "[encoded data removed]",
            "text/plain": [
              "<Figure size 432x288 with 1 Axes>"
            ]
          },
          "metadata": {
            "needs_background": "light"
          },
          "output_type": "display_data"
        }
      ],
      "source": [
        "# show data\n",
        "\n",
        "## identify location indices (in test grid) that are red and green\n",
        "r_locations=np.argwhere(np.logical_not(test_linear))\n",
        "g_locations=np.argwhere(test_linear)\n",
        "#\n",
        "## linear classification plot\n",
        "plt.subplot(111)\n",
        "plt.plot(samples[0,1:int(N/2)],samples[1,1:int(N/2)],'g*',   # green training samples\n",
        "    samples[0,int(N/2+1):N],samples[1,int(N/2+1):N],'ro',    # red training \n",
        "    test_samples[0,g_locations],test_samples[1,g_locations],'g.', # green test\n",
        "    test_samples[0,r_locations],test_samples[1,r_locations],'r.') # red test\n",
        "   \n",
        "plt.xlim=(-3,3) # boundaries for figure aligned with grid\n",
        "plt.ylim=(-3,3)"
      ]
    },
    {
      "cell_type": "markdown",
      "metadata": {
        "id": "lGFov_IoLbV2"
      },
      "source": [
        "# Plot using Nearest Neighbors"
      ]
    },
    {
      "cell_type": "code",
      "execution_count": 40,
      "metadata": {
        "colab": {
          "base_uri": "https://localhost:8080/",
          "height": 265
        },
        "id": "yvsdpJ6pK9wg",
        "outputId": "fce3b4ce-cc38-4c05-f70c-7771675c4085"
      },
      "outputs": [
        {
          "data": {
            "image/png": "[encoded data removed]",
            "text/plain": [
              "<Figure size 432x288 with 1 Axes>"
            ]
          },
          "metadata": {
            "needs_background": "light"
          },
          "output_type": "display_data"
        }
      ],
      "source": [
        "# identify location indices (in test grid) that are red and green\n",
        "r_locations=np.argwhere(np.logical_not(test_NN))\n",
        "g_locations=np.argwhere(test_NN)\n",
        "\n",
        "# NN plot\n",
        "plt.subplot(111)\n",
        "plt.plot(samples[0,1:int(N/2-1)],samples[1,1:int(N/2-1)],'g*',            \n",
        "    samples[0,int(N/2):N-1],samples[1,int(N/2):N-1],'ro',                \n",
        "    test_samples[0,g_locations-1],test_samples[1,g_locations-1],'g.',     \n",
        "    test_samples[0,r_locations-1],test_samples[1,r_locations-1],'r.')    \n",
        "   \n",
        "plt.xlim=(-3,3) # boundaries for figure aligned with grid\n",
        "plt.ylim=(-3,3)"
      ]
    },
    {
      "cell_type": "markdown",
      "metadata": {
        "id": "8WkS7FMSjtCq"
      },
      "source": [
        "# Baysian Classifier"
      ]
    },
    {
      "cell_type": "code",
      "execution_count": 25,
      "metadata": {
        "colab": {
          "base_uri": "https://localhost:8080/",
          "height": 265
        },
        "id": "PMntunbJLL4J",
        "outputId": "05c887fb-34dd-44f1-b816-0ce910303bb3"
      },
      "outputs": [
        {
          "data": {
            "image/png": "[encoded data removed]",
            "text/plain": [
              "<Figure size 432x288 with 1 Axes>"
            ]
          },
          "metadata": {
            "needs_background": "light"
          },
          "output_type": "display_data"
        }
      ],
      "source": [
        "# identify location indices (in test grid) that are red and green\n",
        "r_locations=np.argwhere(np.logical_not(label))\n",
        "g_locations=np.argwhere(label)\n",
        "\n",
        "# NN plot\n",
        "plt.subplot(111)\n",
        "plt.plot(samples[0,1:int(N/2-1)],samples[1,1:int(N/2-1)],'g*',   \n",
        "    samples[0,int(N/2):N-1],samples[1,int(N/2):N-1],'ro',                 \n",
        "    test_samples[0,g_locations-1],test_samples[1,g_locations-1],'g.',   \n",
        "    test_samples[0,r_locations-1],test_samples[1,r_locations-1],'r.')      \n",
        "   \n",
        "plt.xlim=(-3,3) # boundaries for figure aligned with grid\n",
        "plt.ylim=(-3,3)"
      ]
    },
    {
      "cell_type": "markdown",
      "metadata": {
        "id": "ro4Dk98FUWUO"
      },
      "source": [
        "# QDA"
      ]
    },
    {
      "cell_type": "code",
      "execution_count": 26,
      "metadata": {
        "colab": {
          "base_uri": "https://localhost:8080/",
          "height": 265
        },
        "id": "_tbLkNFlUMXT",
        "outputId": "df583d11-f0ab-4d87-b380-e2536274c6b8"
      },
      "outputs": [
        {
          "data": {
            "image/png": "[encoded data removed]",
            "text/plain": [
              "<Figure size 432x288 with 1 Axes>"
            ]
          },
          "metadata": {
            "needs_background": "light"
          },
          "output_type": "display_data"
        }
      ],
      "source": [
        "# identify location indices (in test grid) that are red and green\n",
        "r_locations=np.argwhere(np.logical_not(preds_test))\n",
        "g_locations=np.argwhere(preds_test)\n",
        "\n",
        "# NN plot\n",
        "plt.subplot(111)\n",
        "plt.plot(samples[0,1:int(N/2-1)],samples[1,1:int(N/2-1)],'g*',            \n",
        "    samples[0,int(N/2):N-1],samples[1,int(N/2):N-1],'ro',                 \n",
        "    test_samples[0,g_locations-1],test_samples[1,g_locations-1],'g.',      \n",
        "    test_samples[0,r_locations-1],test_samples[1,r_locations-1],'r.')      \n",
        "   \n",
        "plt.xlim=(-3,3) # boundaries for figure aligned with grid\n",
        "plt.ylim=(-3,3)"
      ]
    },
    {
      "cell_type": "markdown",
      "metadata": {
        "id": "i_sQ-obPu7ey"
      },
      "source": [
        "# Weighted KNN"
      ]
    },
    {
      "cell_type": "code",
      "execution_count": 27,
      "metadata": {
        "colab": {
          "base_uri": "https://localhost:8080/",
          "height": 206
        },
        "id": "Ms5Ew8tre1J9",
        "outputId": "2b7e1e64-bceb-4d7a-ccdb-795341c458c1"
      },
      "outputs": [
        {
          "data": {
            "text/html": [
              "\n",
              "  <div id=\"df-d79530a4-abfb-4297-9765-bc2cfc278165\">\n",
              "    <div class=\"colab-df-container\">\n",
              "      <div>\n",
              "<style scoped>\n",
              "    .dataframe tbody tr th:only-of-type {\n",
              "        vertical-align: middle;\n",
              "    }\n",
              "\n",
              "    .dataframe tbody tr th {\n",
              "        vertical-align: top;\n",
              "    }\n",
              "\n",
              "    .dataframe thead th {\n",
              "        text-align: right;\n",
              "    }\n",
              "</style>\n",
              "<table border=\"1\" class=\"dataframe\">\n",
              "  <thead>\n",
              "    <tr style=\"text-align: right;\">\n",
              "      <th></th>\n",
              "      <th>0</th>\n",
              "      <th>1</th>\n",
              "      <th>2</th>\n",
              "    </tr>\n",
              "  </thead>\n",
              "  <tbody>\n",
              "    <tr>\n",
              "      <th>0</th>\n",
              "      <td>0.000000</td>\n",
              "      <td>0.000000</td>\n",
              "      <td>0.0</td>\n",
              "    </tr>\n",
              "    <tr>\n",
              "      <th>1</th>\n",
              "      <td>1.289108</td>\n",
              "      <td>1.184321</td>\n",
              "      <td>1.0</td>\n",
              "    </tr>\n",
              "    <tr>\n",
              "      <th>2</th>\n",
              "      <td>-0.286540</td>\n",
              "      <td>-0.981333</td>\n",
              "      <td>1.0</td>\n",
              "    </tr>\n",
              "    <tr>\n",
              "      <th>3</th>\n",
              "      <td>2.196059</td>\n",
              "      <td>0.671146</td>\n",
              "      <td>1.0</td>\n",
              "    </tr>\n",
              "    <tr>\n",
              "      <th>4</th>\n",
              "      <td>1.121433</td>\n",
              "      <td>0.124737</td>\n",
              "      <td>1.0</td>\n",
              "    </tr>\n",
              "  </tbody>\n",
              "</table>\n",
              "</div>\n",
              "      <button class=\"colab-df-convert\" onclick=\"convertToInteractive('df-d79530a4-abfb-4297-9765-bc2cfc278165')\"\n",
              "              title=\"Convert this dataframe to an interactive table.\"\n",
              "              style=\"display:none;\">\n",
              "        \n",
              "  <svg xmlns=\"http://www.w3.org/2000/svg\" height=\"24px\"viewBox=\"0 0 24 24\"\n",
              "       width=\"24px\">\n",
              "    <path d=\"M0 0h24v24H0V0z\" fill=\"none\"/>\n",
              "    <path d=\"M18.56 5.44l.94 2.06.94-2.06 2.06-.94-2.06-.94-.94-2.06-.94 2.06-2.06.94zm-11 1L8.5 8.5l.94-2.06 2.06-.94-2.06-.94L8.5 2.5l-.94 2.06-2.06.94zm10 10l.94 2.06.94-2.06 2.06-.94-2.06-.94-.94-2.06-.94 2.06-2.06.94z\"/><path d=\"M17.41 7.96l-1.37-1.37c-.4-.4-.92-.59-1.43-.59-.52 0-1.04.2-1.43.59L10.3 9.45l-7.72 7.72c-.78.78-.78 2.05 0 2.83L4 21.41c.39.39.9.59 1.41.59.51 0 1.02-.2 1.41-.59l7.78-7.78 2.81-2.81c.8-.78.8-2.07 0-2.86zM5.41 20L4 18.59l7.72-7.72 1.47 1.35L5.41 20z\"/>\n",
              "  </svg>\n",
              "      </button>\n",
              "      \n",
              "  <style>\n",
              "    .colab-df-container {\n",
              "      display:flex;\n",
              "      flex-wrap:wrap;\n",
              "      gap: 12px;\n",
              "    }\n",
              "\n",
              "    .colab-df-convert {\n",
              "      background-color: #E8F0FE;\n",
              "      border: none;\n",
              "      border-radius: 50%;\n",
              "      cursor: pointer;\n",
              "      display: none;\n",
              "      fill: #1967D2;\n",
              "      height: 32px;\n",
              "      padding: 0 0 0 0;\n",
              "      width: 32px;\n",
              "    }\n",
              "\n",
              "    .colab-df-convert:hover {\n",
              "      background-color: #E2EBFA;\n",
              "      box-shadow: 0px 1px 2px rgba(60, 64, 67, 0.3), 0px 1px 3px 1px rgba(60, 64, 67, 0.15);\n",
              "      fill: #174EA6;\n",
              "    }\n",
              "\n",
              "    [theme=dark] .colab-df-convert {\n",
              "      background-color: #3B4455;\n",
              "      fill: #D2E3FC;\n",
              "    }\n",
              "\n",
              "    [theme=dark] .colab-df-convert:hover {\n",
              "      background-color: #434B5C;\n",
              "      box-shadow: 0px 1px 3px 1px rgba(0, 0, 0, 0.15);\n",
              "      filter: drop-shadow(0px 1px 2px rgba(0, 0, 0, 0.3));\n",
              "      fill: #FFFFFF;\n",
              "    }\n",
              "  </style>\n",
              "\n",
              "      <script>\n",
              "        const buttonEl =\n",
              "          document.querySelector('#df-d79530a4-abfb-4297-9765-bc2cfc278165 button.colab-df-convert');\n",
              "        buttonEl.style.display =\n",
              "          google.colab.kernel.accessAllowed ? 'block' : 'none';\n",
              "\n",
              "        async function convertToInteractive(key) {\n",
              "          const element = document.querySelector('#df-d79530a4-abfb-4297-9765-bc2cfc278165');\n",
              "          const dataTable =\n",
              "            await google.colab.kernel.invokeFunction('convertToInteractive',\n",
              "                                                     [key], {});\n",
              "          if (!dataTable) return;\n",
              "\n",
              "          const docLinkHtml = 'Like what you see? Visit the ' +\n",
              "            '<a target=\"_blank\" href=https://colab.research.google.com/notebooks/data_table.ipynb>data table notebook</a>'\n",
              "            + ' to learn more about interactive tables.';\n",
              "          element.innerHTML = '';\n",
              "          dataTable['output_type'] = 'display_data';\n",
              "          await google.colab.output.renderOutput(dataTable, element);\n",
              "          const docLink = document.createElement('div');\n",
              "          docLink.innerHTML = docLinkHtml;\n",
              "          element.appendChild(docLink);\n",
              "        }\n",
              "      </script>\n",
              "    </div>\n",
              "  </div>\n",
              "  "
            ],
            "text/plain": [
              "          0         1    2\n",
              "0  0.000000  0.000000  0.0\n",
              "1  1.289108  1.184321  1.0\n",
              "2 -0.286540 -0.981333  1.0\n",
              "3  2.196059  0.671146  1.0\n",
              "4  1.121433  0.124737  1.0"
            ]
          },
          "execution_count": 27,
          "metadata": {},
          "output_type": "execute_result"
        }
      ],
      "source": [
        "data.head()"
      ]
    },
    {
      "cell_type": "code",
      "execution_count": 28,
      "metadata": {
        "colab": {
          "base_uri": "https://localhost:8080/"
        },
        "id": "vasbaEGwfso2",
        "outputId": "c4487e4b-2425-4b28-f272-e607504378dc"
      },
      "outputs": [
        {
          "data": {
            "text/plain": [
              "(50, 3)"
            ]
          },
          "execution_count": 28,
          "metadata": {},
          "output_type": "execute_result"
        }
      ],
      "source": [
        "data.shape"
      ]
    },
    {
      "cell_type": "code",
      "execution_count": 30,
      "metadata": {
        "id": "fbgA2NVktvRs"
      },
      "outputs": [],
      "source": [
        "data.columns =['X1', 'X2', 'Y']"
      ]
    },
    {
      "cell_type": "code",
      "execution_count": 31,
      "metadata": {
        "id": "XSX4iPU48zkp"
      },
      "outputs": [],
      "source": [
        "data_0=data.loc[data['Y'] == 0]\n",
        "data_1=data.loc[data['Y'] == 1]"
      ]
    },
    {
      "cell_type": "code",
      "execution_count": 32,
      "metadata": {
        "colab": {
          "base_uri": "https://localhost:8080/"
        },
        "id": "8nj0uhkjCOj9",
        "outputId": "1b3d23af-2b3a-4e9e-a45a-5442d4fc6ce5"
      },
      "outputs": [
        {
          "data": {
            "text/plain": [
              "X1   -0.286540\n",
              "X2   -0.981333\n",
              "Y     1.000000\n",
              "Name: 2, dtype: float64"
            ]
          },
          "execution_count": 32,
          "metadata": {},
          "output_type": "execute_result"
        }
      ],
      "source": [
        "data_1.iloc[1]"
      ]
    },
    {
      "cell_type": "code",
      "execution_count": 33,
      "metadata": {
        "id": "9yRynHKYd4za"
      },
      "outputs": [],
      "source": [
        "import math "
      ]
    },
    {
      "cell_type": "code",
      "execution_count": 34,
      "metadata": {
        "id": "QT2Yzx4l9PPm"
      },
      "outputs": [],
      "source": [
        "def weightedkNN(p,k): #points,\n",
        "  d_0=[] \n",
        "  d_1=[]\n",
        "\n",
        "  for index, i in data_0.iterrows():  # for i in range(data_0.shape[0]):\n",
        "    euclidean_distance_0 = math.sqrt((i[0]-p[0])**2 + (i[1]-p[1])**2)\n",
        "    d_0.append(euclidean_distance_0)\n",
        "\n",
        "  for index, j in data_1.iterrows():  # for i in range(data_0.shape[0]):\n",
        "    euclidean_distance_1 = math.sqrt((j[0]-p[0])**2 + (j[1]-p[1])**2)\n",
        "    d_1.append(euclidean_distance_1)\n",
        "  \n",
        "  d_0= sorted(d_0)[:k] \n",
        "  d_1= sorted(d_1)[:k] \n",
        "\n",
        "  w0=w1=0\n",
        "  dem= k*(k + 1 ) / 2\n",
        "\n",
        "  # Class 0 -- w0\n",
        "  m0=k\n",
        "\n",
        "  #for m in range(k,1,-1):\n",
        "  for d0 in d_0:\n",
        "    while m0!=0:\n",
        "      w0 += (m0/dem)*d0\n",
        "      m0-=1\n",
        "\n",
        "  # Class 1 -- w1\n",
        "  m1=k\n",
        "  \n",
        "  #for m in range(k,1,-1):\n",
        "  for d1 in d_1:\n",
        "    while m1!=0:\n",
        "      w1 += (m1/dem)*d1\n",
        "      m1-=1\n",
        "\n",
        "  return 0 if w0<w1 else 1\n",
        "  "
      ]
    },
    {
      "cell_type": "code",
      "execution_count": 38,
      "metadata": {
        "id": "QGvQjqTjdDqT"
      },
      "outputs": [],
      "source": [
        "# weightedkNN(data,p,k=3)\n",
        "label_wknn=[0]*test_samples_T.shape[0]\n",
        "\n",
        "for i in range(test_samples_T.shape[0]):\n",
        "  label_wknn[i] = weightedkNN(test_samples_T[i],k=3)  #data,\n",
        "#print('Data=%s, Predicted: %s' % (test_samples_T[i] , label))"
      ]
    },
    {
      "cell_type": "code",
      "execution_count": 39,
      "metadata": {
        "colab": {
          "base_uri": "https://localhost:8080/",
          "height": 265
        },
        "id": "Uii2QnaQELR6",
        "outputId": "3fe33309-a8b6-4ca9-8131-fb65b210e826"
      },
      "outputs": [
        {
          "data": {
            "image/png": "[encoded data removed]",
            "text/plain": [
              "<Figure size 432x288 with 1 Axes>"
            ]
          },
          "metadata": {
            "needs_background": "light"
          },
          "output_type": "display_data"
        }
      ],
      "source": [
        "# identify location indices (in test grid) that are red and green\n",
        "r_locations=np.argwhere(np.logical_not(label_wknn))\n",
        "g_locations=np.argwhere(label_wknn)\n",
        "\n",
        "# NN plot\n",
        "plt.subplot(111)\n",
        "plt.plot(samples[0,1:int(N/2-1)],samples[1,1:int(N/2-1)],'g*',  # green training samples\n",
        "    samples[0,int(N/2):N-1],samples[1,int(N/2):N-1],'ro',       # red training \n",
        "    test_samples[0,g_locations-1],test_samples[1,g_locations-1],'g.',  # green test\n",
        "    test_samples[0,r_locations-1],test_samples[1,r_locations-1],'r.')  # red\n",
        "   \n",
        "plt.xlim=(-3,3) # boundaries for figure aligned with grid\n",
        "plt.ylim=(-3,3)"
      ]
    }
  ],
  "metadata": {
    "colab": {
      "collapsed_sections": [],
      "provenance": []
    },
    "kernelspec": {
      "display_name": "Python 3",
      "name": "python3"
    },
    "language_info": {
      "name": "python"
    }
  },
  "nbformat": 4,
  "nbformat_minor": 0
}
